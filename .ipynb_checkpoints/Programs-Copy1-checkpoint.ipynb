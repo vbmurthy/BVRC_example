{
 "cells": [
  {
   "cell_type": "code",
   "execution_count": 1,
   "metadata": {},
   "outputs": [
    {
     "name": "stdout",
     "output_type": "stream",
     "text": [
      "Hello world and especially for Machine Learning\n"
     ]
    }
   ],
   "source": [
    "# 1. How to print \"Hello WOrld!\" in PYTHON\n",
    "print(\"Hello world and especially for Machine Learning\")\n"
   ]
  },
  {
   "cell_type": "code",
   "execution_count": 19,
   "metadata": {},
   "outputs": [
    {
     "name": "stdout",
     "output_type": "stream",
     "text": [
      "what's your age23\n",
      "you're 23 years old\n"
     ]
    }
   ],
   "source": [
    "# 2. How to accept the number from user and print it\n",
    "age = input(\"what's your age\")\n",
    "print(\"you're \" + age + \" years old\")"
   ]
  },
  {
   "cell_type": "code",
   "execution_count": 3,
   "metadata": {},
   "outputs": [
    {
     "name": "stdout",
     "output_type": "stream",
     "text": [
      "enter frist number 52\n",
      "enter second number 56\n",
      "108\n"
     ]
    }
   ],
   "source": [
    "# 3. How to add two integers\n",
    "a = int (input (\"enter frist number \"))\n",
    "b = int (input (\"enter second number \"))\n",
    "print(a+b)"
   ]
  },
  {
   "cell_type": "code",
   "execution_count": 7,
   "metadata": {},
   "outputs": [
    {
     "name": "stdout",
     "output_type": "stream",
     "text": [
      "enter first number15\n",
      "enter second number12\n",
      "27.0\n"
     ]
    }
   ],
   "source": [
    "# 4.How to add floating number\n",
    "a = float(input (\"enter first number\"))\n",
    "b = float (input(\"enter second number\"))\n",
    "print(a+b)"
   ]
  },
  {
   "cell_type": "code",
   "execution_count": 3,
   "metadata": {},
   "outputs": [
    {
     "name": "stdout",
     "output_type": "stream",
     "text": [
      "enter first number6.3\n",
      "enter second number3.2\n",
      "20.16\n"
     ]
    }
   ],
   "source": [
    "#. 5.How to multiplication for floating number\n",
    "a = float(input (\"enter first number\"))\n",
    "b = float (input(\"enter second number\"))\n",
    "print(a*b)"
   ]
  },
  {
   "cell_type": "code",
   "execution_count": 11,
   "metadata": {},
   "outputs": [
    {
     "name": "stdout",
     "output_type": "stream",
     "text": [
      "97\n",
      "122\n",
      "65\n",
      "90\n"
     ]
    }
   ],
   "source": [
    "# 6. How to find the ascii value for character\n",
    "print(ord('a'))\n",
    "print(ord('z'))\n",
    "print(ord('A'))\n",
    "print(ord('Z'))\n"
   ]
  },
  {
   "cell_type": "code",
   "execution_count": 12,
   "metadata": {},
   "outputs": [
    {
     "name": "stdout",
     "output_type": "stream",
     "text": [
      "\u0004\n",
      "W\n",
      "^\n",
      "Z\n"
     ]
    }
   ],
   "source": [
    "# 7. How to find the character for ascii value\n",
    "print(chr(4))\n",
    "print(chr(87))\n",
    "print(chr(94))\n",
    "print(chr(90))"
   ]
  },
  {
   "cell_type": "code",
   "execution_count": 13,
   "metadata": {},
   "outputs": [
    {
     "name": "stdout",
     "output_type": "stream",
     "text": [
      "enter number4\n",
      "0.4 4.0\n"
     ]
    }
   ],
   "source": [
    "# 8. Compute Quotient and Remainder\n",
    "a = int(input(\"enter number\"))\n",
    "b = (float(a) / 10)\n",
    "c = (float(a) % 10)\n",
    "print(b,c)\n",
    "\n",
    "\n",
    "\n"
   ]
  },
  {
   "cell_type": "code",
   "execution_count": 63,
   "metadata": {},
   "outputs": [
    {
     "name": "stdout",
     "output_type": "stream",
     "text": [
      "<class 'int'>\n",
      "28\n",
      "24\n",
      "400\n"
     ]
    }
   ],
   "source": [
    "# 9.Compute the Type of the data\n",
    "\n",
    "a = 5\n",
    "b = 1.234\n",
    "c =\"rajesh\"\n",
    "print(type(a))\n",
    "print(sys.getsizeof(a))\n",
    "print(sys.getsizeof(b))\n",
    "print(sys.getsizeof(int))"
   ]
  },
  {
   "cell_type": "code",
   "execution_count": 64,
   "metadata": {},
   "outputs": [
    {
     "name": "stdout",
     "output_type": "stream",
     "text": [
      "before\n",
      "10 20\n",
      "after\n",
      "20 10\n"
     ]
    }
   ],
   "source": [
    "# 10. Swappping number (using Third variable)\n",
    "a = 10\n",
    "b = 20\n",
    "print(\"before\")\n",
    "print(a,b)\n",
    "temp = a\n",
    "a = b\n",
    "b = temp \n",
    "print(\"after\")\n",
    "print(a,b)"
   ]
  },
  {
   "cell_type": "code",
   "execution_count": 66,
   "metadata": {},
   "outputs": [
    {
     "name": "stdout",
     "output_type": "stream",
     "text": [
      "before\n",
      "10 20\n",
      "after\n",
      "20 10\n"
     ]
    }
   ],
   "source": [
    "# 11. Swapping number without using third variable\n",
    "a = 10\n",
    "b = 20\n",
    "print(\"before\")\n",
    "print(a,b)\n",
    "a = a + b\n",
    "b = a - b\n",
    "a = a - b\n",
    "print(\"after\")\n",
    "print(a,b)"
   ]
  },
  {
   "cell_type": "code",
   "execution_count": 67,
   "metadata": {},
   "outputs": [
    {
     "name": "stdout",
     "output_type": "stream",
     "text": [
      "before\n",
      "10 20\n",
      "after\n",
      "20.0 10.0\n"
     ]
    }
   ],
   "source": [
    "# 11. Swapping number without using thrid variable \n",
    "a = 10\n",
    "b = 20\n",
    "print(\"before\")\n",
    "print(a,b)\n",
    "a = a * b\n",
    "b = a / b\n",
    "a = a / b\n",
    "print(\"after\")\n",
    "print(a,b)"
   ]
  },
  {
   "cell_type": "code",
   "execution_count": 71,
   "metadata": {},
   "outputs": [
    {
     "name": "stdout",
     "output_type": "stream",
     "text": [
      "20 10\n"
     ]
    }
   ],
   "source": [
    "# 12. Swapping number without using thrid variable \n",
    "m = 10 \n",
    "n = 20\n",
    "m = m ^ n\n",
    "n = m ^ n\n",
    "m = m ^ n\n",
    "print(m,n)\n",
    "    "
   ]
  },
  {
   "cell_type": "code",
   "execution_count": 40,
   "metadata": {},
   "outputs": [
    {
     "ename": "SyntaxError",
     "evalue": "'continue' not properly in loop (<ipython-input-40-4cd05b325741>, line 5)",
     "output_type": "error",
     "traceback": [
      "\u001b[1;36m  File \u001b[1;32m\"<ipython-input-40-4cd05b325741>\"\u001b[1;36m, line \u001b[1;32m5\u001b[0m\n\u001b[1;33m    continue\u001b[0m\n\u001b[1;37m    ^\u001b[0m\n\u001b[1;31mSyntaxError\u001b[0m\u001b[1;31m:\u001b[0m 'continue' not properly in loop\n"
     ]
    }
   ],
   "source": [
    "# 13. Program to Check Even or Odd\n",
    "a = 15\n",
    "if a % 2 == 0:\n",
    "    print(\"even\")\n",
    "    \n",
    "else :\n",
    "    print(\"not even\")"
   ]
  },
  {
   "cell_type": "code",
   "execution_count": null,
   "metadata": {},
   "outputs": [],
   "source": [
    "# 14. Program to check evrn or odd with in 100\n",
    "n = int(input(\"enter n value\"))\n",
    "for x in range(1, n+1):\n",
    "    if x%2==0:\n",
    "        print(x ,\" even number\")\n",
    "    else:\n",
    "        print(x ,\" odd number\")\n",
    "  "
   ]
  },
  {
   "cell_type": "code",
   "execution_count": null,
   "metadata": {},
   "outputs": [],
   "source": [
    "# 15. Program to Check Whether a Character is Vowel or Consonant\n",
    "ch = input(\"enter charater is\")\n",
    "if (ch == 'a' or ch == 'e' or ch == 'i' or ch == 'o' or ch =='u' or ch == 'A' or ch == 'E' or ch == 'I' or ch == 'O' or ch =='U') :\n",
    "    print(\"entered character is Vowel \")\n",
    "else :\n",
    "    print(\"constant \")"
   ]
  },
  {
   "cell_type": "code",
   "execution_count": null,
   "metadata": {},
   "outputs": [],
   "source": [
    "# 16. Program to find the sum of N natural numbner\n",
    "m = int (input(\"enter N numner\"))\n",
    "sum = 0\n",
    "for x in range(1,m+1):\n",
    "    sum = x + sum\n",
    "print(sum)\n",
    "    \n"
   ]
  },
  {
   "cell_type": "code",
   "execution_count": 7,
   "metadata": {},
   "outputs": [
    {
     "name": "stdout",
     "output_type": "stream",
     "text": [
      "squar root value 5.00000999999\n",
      "ceil value 35\n",
      "floor value 35\n",
      "absolute value 10.0\n",
      "factorial 479001600\n",
      "gcd value 5\n",
      "fmod : 2.0\n",
      "power value 32.0\n"
     ]
    }
   ],
   "source": [
    "# 17. Program to find MATH functions\n",
    "import math\n",
    "m = math.sqrt(25.0001)\n",
    "print(\"squar root value\" , m)\n",
    "n = math.ceil(34.933)\n",
    "print(\"ceil value\", n)\n",
    "o = math.floor(34.9999999999999999999999999999)\n",
    "print(\"floor value\" , o)\n",
    "p = math.fabs(10)\n",
    "print(\"absolute value\" , p)\n",
    "q = math.factorial(12)\n",
    "print(\"factorial\" , q)\n",
    "r = math.gcd(5,15)\n",
    "print(\"gcd value\" , r)\n",
    "s = math.fmod(23,3)\n",
    "print(\"fmod :\", s)\n",
    "u = math.pow(2,5)\n",
    "print(\"power value\", u)"
   ]
  },
  {
   "cell_type": "code",
   "execution_count": null,
   "metadata": {},
   "outputs": [],
   "source": [
    "# 17. Program to find largest number among 3\n",
    "a = int(input(\"enter number\"))\n",
    "b = int(input (\"enter second number\"))\n",
    "c = int(input (\"enter third number\"))\n",
    "if a >b and b > c:\n",
    "    print(\"big number is:\", a)\n",
    "elif (b > c ):\n",
    "    print(\"big number is:\", b)\n",
    "else :\n",
    "    print(\"big number is:\", c)"
   ]
  },
  {
   "cell_type": "code",
   "execution_count": 3,
   "metadata": {},
   "outputs": [
    {
     "name": "stdout",
     "output_type": "stream",
     "text": [
      "enter number for the number5\n",
      "1 * 5 = 5\n",
      "2 * 5 = 10\n",
      "3 * 5 = 15\n",
      "4 * 5 = 20\n",
      "5 * 5 = 25\n",
      "6 * 5 = 30\n",
      "7 * 5 = 35\n",
      "8 * 5 = 40\n",
      "9 * 5 = 45\n",
      "10 * 5 = 50\n"
     ]
    }
   ],
   "source": [
    "# 18. Program to generate the multiplication table\n",
    "num = int(input(\"enter number for the number\"))\n",
    "for x in range(1, 11):\n",
    "    print(x,\"*\",num,\"=\",(x*num))"
   ]
  },
  {
   "cell_type": "code",
   "execution_count": 5,
   "metadata": {},
   "outputs": [
    {
     "name": "stdout",
     "output_type": "stream",
     "text": [
      "enter number5\n",
      "0\n",
      "1\n",
      "1\n",
      "2\n",
      "3\n",
      "5\n"
     ]
    }
   ],
   "source": [
    "# 19. Generate Fibonacci series\n",
    "n = int(input(\"enter number\"))\n",
    "a = 0\n",
    "b = 1\n",
    "print(a)\n",
    "print(b)\n",
    "for x in range(1, n):\n",
    "    c = a+ b\n",
    "    print(c)\n",
    "    a = b\n",
    "    b = c"
   ]
  },
  {
   "cell_type": "code",
   "execution_count": null,
   "metadata": {},
   "outputs": [],
   "source": [
    "# 20. Program to find a number is positive or not\n",
    "n = int (input (\"enter number\"))\n",
    "if n > 0 : \n",
    "    print(\"positive\")\n",
    "else :\n",
    "    print(negitive)"
   ]
  },
  {
   "cell_type": "code",
   "execution_count": 4,
   "metadata": {},
   "outputs": [
    {
     "name": "stdout",
     "output_type": "stream",
     "text": [
      "enter charactero\n",
      "entered alphabet\n"
     ]
    }
   ],
   "source": [
    "# 21. Program to find the weather character is alphabet or not\n",
    "n = input(\"enter character\")\n",
    "n = ord(n)\n",
    "\n",
    "if 64 < n < 91 or 97 < n <123:\n",
    "    print(\"entered alphabet\")\n",
    "else:\n",
    "    print(\"not an alphabet\")"
   ]
  },
  {
   "cell_type": "code",
   "execution_count": 2,
   "metadata": {},
   "outputs": [
    {
     "name": "stdout",
     "output_type": "stream",
     "text": [
      "enter charachert\n",
      "116\n",
      "you entered as:  t\n",
      "u\n",
      "v\n",
      "w\n",
      "x\n",
      "y\n",
      "z\n"
     ]
    }
   ],
   "source": [
    "# 22, Program to find A to Z alphabets\n",
    "\n",
    "ch = input(\"enter characher\")\n",
    "a = ord(ch)\n",
    "print(a)\n",
    "if (a >= 97):\n",
    "    n = 122\n",
    "else:\n",
    "    n = 90\n",
    "print(\"you entered as: \",ch)\n",
    "for x in range(a+1,1+n):\n",
    "    print(chr(x))\n",
    "    "
   ]
  },
  {
   "cell_type": "code",
   "execution_count": 8,
   "metadata": {},
   "outputs": [
    {
     "name": "stdout",
     "output_type": "stream",
     "text": [
      "enter number45\n",
      "2\n"
     ]
    }
   ],
   "source": [
    "import math\n",
    "n = int(input(\"enter number\"))\n",
    "n = math.fabs(n)\n",
    "b = 0\n",
    "while n > 1 :\n",
    "    rem = n % 10\n",
    "    b = b + 1\n",
    "    n = n / 10\n",
    "print(b)"
   ]
  },
  {
   "cell_type": "code",
   "execution_count": 1,
   "metadata": {},
   "outputs": [
    {
     "name": "stdout",
     "output_type": "stream",
     "text": [
      "enter number\n"
     ]
    },
    {
     "ename": "ValueError",
     "evalue": "invalid literal for int() with base 10: ''",
     "output_type": "error",
     "traceback": [
      "\u001b[1;31m---------------------------------------------------------------------------\u001b[0m",
      "\u001b[1;31mValueError\u001b[0m                                Traceback (most recent call last)",
      "\u001b[1;32m<ipython-input-1-39217e88ffa2>\u001b[0m in \u001b[0;36m<module>\u001b[1;34m()\u001b[0m\n\u001b[1;32m----> 1\u001b[1;33m \u001b[0mn\u001b[0m \u001b[1;33m=\u001b[0m \u001b[0mint\u001b[0m\u001b[1;33m(\u001b[0m\u001b[0minput\u001b[0m\u001b[1;33m(\u001b[0m\u001b[1;34m\"enter number\"\u001b[0m\u001b[1;33m)\u001b[0m\u001b[1;33m)\u001b[0m\u001b[1;33m\u001b[0m\u001b[0m\n\u001b[0m\u001b[0;32m      2\u001b[0m \u001b[1;32mwhile\u001b[0m \u001b[0mn\u001b[0m \u001b[1;33m>\u001b[0m \u001b[1;36m1\u001b[0m\u001b[1;33m:\u001b[0m\u001b[1;33m\u001b[0m\u001b[0m\n\u001b[0;32m      3\u001b[0m     \u001b[0mrem\u001b[0m \u001b[1;33m=\u001b[0m \u001b[0mn\u001b[0m\u001b[1;33m%\u001b[0m\u001b[1;36m3\u001b[0m\u001b[1;33m\u001b[0m\u001b[0m\n\u001b[0;32m      4\u001b[0m     \u001b[0mn\u001b[0m \u001b[1;33m=\u001b[0m \u001b[0mn\u001b[0m\u001b[1;33m/\u001b[0m\u001b[1;36m3\u001b[0m\u001b[1;33m\u001b[0m\u001b[0m\n\u001b[0;32m      5\u001b[0m \u001b[1;32mif\u001b[0m \u001b[0mrem\u001b[0m \u001b[1;33m==\u001b[0m\u001b[1;36m0\u001b[0m \u001b[1;33m:\u001b[0m\u001b[1;33m\u001b[0m\u001b[0m\n",
      "\u001b[1;31mValueError\u001b[0m: invalid literal for int() with base 10: ''"
     ]
    }
   ],
   "source": [
    "n = int ( input(\"enter number\"))\n",
    "while n > 1:\n",
    "    rem = n%3\n",
    "    n = n/3\n",
    "if rem ==0 :\n",
    "    print(\"yes\")\n",
    "else:\n",
    "    print(\"no\")\n",
    "    "
   ]
  },
  {
   "cell_type": "markdown",
   "metadata": {},
   "source": [
    "\t\tprint(\"enter n:\");\n",
    "\t\t\n",
    "\t\tn = int(input(\"enter number\"))\n",
    "\t\t\n",
    "\t\tprint(\"output is \");\n",
    "\t\t\n",
    "\t\tfor i in range(1,n+1):\n",
    "\t\tnum = i;\n",
    "\t\t\t\n",
    "\t\t\tfor j in range(1, i+1): \n",
    "\t\t\t   print(num+\" \");\n",
    "\t\t\t   num=num+n-j;\n",
    "\t\tprint();\n",
    "\t\t"
   ]
  },
  {
   "cell_type": "code",
   "execution_count": 12,
   "metadata": {},
   "outputs": [
    {
     "ename": "IndentationError",
     "evalue": "unexpected indent (<ipython-input-12-42af973efa85>, line 4)",
     "output_type": "error",
     "traceback": [
      "\u001b[1;36m  File \u001b[1;32m\"<ipython-input-12-42af973efa85>\"\u001b[1;36m, line \u001b[1;32m4\u001b[0m\n\u001b[1;33m    for i in range(1, n+1):\u001b[0m\n\u001b[1;37m    ^\u001b[0m\n\u001b[1;31mIndentationError\u001b[0m\u001b[1;31m:\u001b[0m unexpected indent\n"
     ]
    }
   ],
   "source": [
    "print(\"enter n:\");\n",
    "n = input(\"enter number\")\n",
    "print(\"output is \")\n",
    "    for i in range(1, n+1):\n",
    "        num = i\n",
    "        for j in range(1, i+1): \n",
    "            print(num+\" \")\n",
    "            num=num+n-j\n",
    "print()"
   ]
  },
  {
   "cell_type": "code",
   "execution_count": 13,
   "metadata": {},
   "outputs": [
    {
     "name": "stdout",
     "output_type": "stream",
     "text": [
      "enter n5\n"
     ]
    },
    {
     "ename": "TypeError",
     "evalue": "unsupported operand type(s) for +: 'int' and 'str'",
     "output_type": "error",
     "traceback": [
      "\u001b[1;31m---------------------------------------------------------------------------\u001b[0m",
      "\u001b[1;31mTypeError\u001b[0m                                 Traceback (most recent call last)",
      "\u001b[1;32m<ipython-input-13-e93e912ab330>\u001b[0m in \u001b[0;36m<module>\u001b[1;34m()\u001b[0m\n\u001b[0;32m      1\u001b[0m \u001b[0mn\u001b[0m \u001b[1;33m=\u001b[0m \u001b[0mint\u001b[0m\u001b[1;33m(\u001b[0m\u001b[0minput\u001b[0m\u001b[1;33m(\u001b[0m\u001b[1;34m\"enter n\"\u001b[0m\u001b[1;33m)\u001b[0m\u001b[1;33m)\u001b[0m\u001b[1;33m\u001b[0m\u001b[0m\n\u001b[1;32m----> 2\u001b[1;33m \u001b[0mprint\u001b[0m\u001b[1;33m(\u001b[0m\u001b[0mn\u001b[0m\u001b[1;33m+\u001b[0m\u001b[1;34m\" \"\u001b[0m\u001b[1;33m)\u001b[0m\u001b[1;33m\u001b[0m\u001b[0m\n\u001b[0m",
      "\u001b[1;31mTypeError\u001b[0m: unsupported operand type(s) for +: 'int' and 'str'"
     ]
    }
   ],
   "source": [
    "n = int(input(\"enter n\"))\n",
    "print(n+\" \")"
   ]
  },
  {
   "cell_type": "code",
   "execution_count": 17,
   "metadata": {},
   "outputs": [
    {
     "name": "stdout",
     "output_type": "stream",
     "text": [
      "enter n:6\n",
      "1  \n",
      "2  7  \n",
      "3  8  12  \n",
      "4  9  13  16  \n",
      "5  10  14  17  19  \n",
      "6  11  15  18  20  21  \n"
     ]
    }
   ],
   "source": [
    "n= int(input(\"enter n:\"))\n",
    "for i in range(1, n+1):\n",
    "    num=i\n",
    "    for j in range(1,i+1):\n",
    "        print(num,\" \",end=\"\")\n",
    "        num=num+n-j\n",
    "    print(\"\\r\")\n",
    "    \n",
    "       "
   ]
  }
 ],
 "metadata": {
  "kernelspec": {
   "display_name": "Python 3",
   "language": "python",
   "name": "python3"
  },
  "language_info": {
   "codemirror_mode": {
    "name": "ipython",
    "version": 3
   },
   "file_extension": ".py",
   "mimetype": "text/x-python",
   "name": "python",
   "nbconvert_exporter": "python",
   "pygments_lexer": "ipython3",
   "version": "3.6.5"
  }
 },
 "nbformat": 4,
 "nbformat_minor": 2
}
